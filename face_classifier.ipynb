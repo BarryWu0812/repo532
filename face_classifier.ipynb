{
  "cells": [
    {
      "cell_type": "markdown",
      "metadata": {
        "id": "1EwDFIYc43jA"
      },
      "source": [
        "# 2a)"
      ]
    },
    {
      "cell_type": "code",
      "execution_count": 44,
      "metadata": {
        "colab": {
          "base_uri": "https://localhost:8080/",
          "height": 354
        },
        "id": "hMtg33EX43jB",
        "outputId": "8da10468-8602-47c3-a0ae-621568ec4c11"
      },
      "outputs": [
        {
          "output_type": "display_data",
          "data": {
            "text/plain": [
              "<IPython.core.display.HTML object>"
            ],
            "text/html": [
              "\n",
              "     <input type=\"file\" id=\"files-a38b5c2b-8047-4181-b8d4-c58c12a278a4\" name=\"files[]\" multiple disabled\n",
              "        style=\"border:none\" />\n",
              "     <output id=\"result-a38b5c2b-8047-4181-b8d4-c58c12a278a4\">\n",
              "      Upload widget is only available when the cell has been executed in the\n",
              "      current browser session. Please rerun this cell to enable.\n",
              "      </output>\n",
              "      <script>// Copyright 2017 Google LLC\n",
              "//\n",
              "// Licensed under the Apache License, Version 2.0 (the \"License\");\n",
              "// you may not use this file except in compliance with the License.\n",
              "// You may obtain a copy of the License at\n",
              "//\n",
              "//      http://www.apache.org/licenses/LICENSE-2.0\n",
              "//\n",
              "// Unless required by applicable law or agreed to in writing, software\n",
              "// distributed under the License is distributed on an \"AS IS\" BASIS,\n",
              "// WITHOUT WARRANTIES OR CONDITIONS OF ANY KIND, either express or implied.\n",
              "// See the License for the specific language governing permissions and\n",
              "// limitations under the License.\n",
              "\n",
              "/**\n",
              " * @fileoverview Helpers for google.colab Python module.\n",
              " */\n",
              "(function(scope) {\n",
              "function span(text, styleAttributes = {}) {\n",
              "  const element = document.createElement('span');\n",
              "  element.textContent = text;\n",
              "  for (const key of Object.keys(styleAttributes)) {\n",
              "    element.style[key] = styleAttributes[key];\n",
              "  }\n",
              "  return element;\n",
              "}\n",
              "\n",
              "// Max number of bytes which will be uploaded at a time.\n",
              "const MAX_PAYLOAD_SIZE = 100 * 1024;\n",
              "\n",
              "function _uploadFiles(inputId, outputId) {\n",
              "  const steps = uploadFilesStep(inputId, outputId);\n",
              "  const outputElement = document.getElementById(outputId);\n",
              "  // Cache steps on the outputElement to make it available for the next call\n",
              "  // to uploadFilesContinue from Python.\n",
              "  outputElement.steps = steps;\n",
              "\n",
              "  return _uploadFilesContinue(outputId);\n",
              "}\n",
              "\n",
              "// This is roughly an async generator (not supported in the browser yet),\n",
              "// where there are multiple asynchronous steps and the Python side is going\n",
              "// to poll for completion of each step.\n",
              "// This uses a Promise to block the python side on completion of each step,\n",
              "// then passes the result of the previous step as the input to the next step.\n",
              "function _uploadFilesContinue(outputId) {\n",
              "  const outputElement = document.getElementById(outputId);\n",
              "  const steps = outputElement.steps;\n",
              "\n",
              "  const next = steps.next(outputElement.lastPromiseValue);\n",
              "  return Promise.resolve(next.value.promise).then((value) => {\n",
              "    // Cache the last promise value to make it available to the next\n",
              "    // step of the generator.\n",
              "    outputElement.lastPromiseValue = value;\n",
              "    return next.value.response;\n",
              "  });\n",
              "}\n",
              "\n",
              "/**\n",
              " * Generator function which is called between each async step of the upload\n",
              " * process.\n",
              " * @param {string} inputId Element ID of the input file picker element.\n",
              " * @param {string} outputId Element ID of the output display.\n",
              " * @return {!Iterable<!Object>} Iterable of next steps.\n",
              " */\n",
              "function* uploadFilesStep(inputId, outputId) {\n",
              "  const inputElement = document.getElementById(inputId);\n",
              "  inputElement.disabled = false;\n",
              "\n",
              "  const outputElement = document.getElementById(outputId);\n",
              "  outputElement.innerHTML = '';\n",
              "\n",
              "  const pickedPromise = new Promise((resolve) => {\n",
              "    inputElement.addEventListener('change', (e) => {\n",
              "      resolve(e.target.files);\n",
              "    });\n",
              "  });\n",
              "\n",
              "  const cancel = document.createElement('button');\n",
              "  inputElement.parentElement.appendChild(cancel);\n",
              "  cancel.textContent = 'Cancel upload';\n",
              "  const cancelPromise = new Promise((resolve) => {\n",
              "    cancel.onclick = () => {\n",
              "      resolve(null);\n",
              "    };\n",
              "  });\n",
              "\n",
              "  // Wait for the user to pick the files.\n",
              "  const files = yield {\n",
              "    promise: Promise.race([pickedPromise, cancelPromise]),\n",
              "    response: {\n",
              "      action: 'starting',\n",
              "    }\n",
              "  };\n",
              "\n",
              "  cancel.remove();\n",
              "\n",
              "  // Disable the input element since further picks are not allowed.\n",
              "  inputElement.disabled = true;\n",
              "\n",
              "  if (!files) {\n",
              "    return {\n",
              "      response: {\n",
              "        action: 'complete',\n",
              "      }\n",
              "    };\n",
              "  }\n",
              "\n",
              "  for (const file of files) {\n",
              "    const li = document.createElement('li');\n",
              "    li.append(span(file.name, {fontWeight: 'bold'}));\n",
              "    li.append(span(\n",
              "        `(${file.type || 'n/a'}) - ${file.size} bytes, ` +\n",
              "        `last modified: ${\n",
              "            file.lastModifiedDate ? file.lastModifiedDate.toLocaleDateString() :\n",
              "                                    'n/a'} - `));\n",
              "    const percent = span('0% done');\n",
              "    li.appendChild(percent);\n",
              "\n",
              "    outputElement.appendChild(li);\n",
              "\n",
              "    const fileDataPromise = new Promise((resolve) => {\n",
              "      const reader = new FileReader();\n",
              "      reader.onload = (e) => {\n",
              "        resolve(e.target.result);\n",
              "      };\n",
              "      reader.readAsArrayBuffer(file);\n",
              "    });\n",
              "    // Wait for the data to be ready.\n",
              "    let fileData = yield {\n",
              "      promise: fileDataPromise,\n",
              "      response: {\n",
              "        action: 'continue',\n",
              "      }\n",
              "    };\n",
              "\n",
              "    // Use a chunked sending to avoid message size limits. See b/62115660.\n",
              "    let position = 0;\n",
              "    do {\n",
              "      const length = Math.min(fileData.byteLength - position, MAX_PAYLOAD_SIZE);\n",
              "      const chunk = new Uint8Array(fileData, position, length);\n",
              "      position += length;\n",
              "\n",
              "      const base64 = btoa(String.fromCharCode.apply(null, chunk));\n",
              "      yield {\n",
              "        response: {\n",
              "          action: 'append',\n",
              "          file: file.name,\n",
              "          data: base64,\n",
              "        },\n",
              "      };\n",
              "\n",
              "      let percentDone = fileData.byteLength === 0 ?\n",
              "          100 :\n",
              "          Math.round((position / fileData.byteLength) * 100);\n",
              "      percent.textContent = `${percentDone}% done`;\n",
              "\n",
              "    } while (position < fileData.byteLength);\n",
              "  }\n",
              "\n",
              "  // All done.\n",
              "  yield {\n",
              "    response: {\n",
              "      action: 'complete',\n",
              "    }\n",
              "  };\n",
              "}\n",
              "\n",
              "scope.google = scope.google || {};\n",
              "scope.google.colab = scope.google.colab || {};\n",
              "scope.google.colab._files = {\n",
              "  _uploadFiles,\n",
              "  _uploadFilesContinue,\n",
              "};\n",
              "})(self);\n",
              "</script> "
            ]
          },
          "metadata": {}
        },
        {
          "output_type": "stream",
          "name": "stdout",
          "text": [
            "Saving face_emotion_data.mat to face_emotion_data (36).mat\n",
            "a)\n",
            "[[ 0.94366942]\n",
            " [ 0.21373778]\n",
            " [ 0.26641775]\n",
            " [-0.39221373]\n",
            " [-0.00538552]\n",
            " [-0.01764687]\n",
            " [-0.16632809]\n",
            " [-0.0822838 ]\n",
            " [-0.16644364]]\n",
            "e)\n",
            "Errors_using_all_nine_features: 0.0234375\n",
            "Errors_using_three_features: 0.0625\n",
            "f)\n",
            "Error rates for each subset:  [0.375, 0.0625, 0.0625, 0.0, 0.0, 0.0625, 0.0625, 0.0]\n",
            "Average error rate:  0.078125\n"
          ]
        }
      ],
      "source": [
        "import numpy as np\n",
        "from scipy.io import loadmat\n",
        "import matplotlib.pyplot as plt\n",
        "from google.colab import files\n",
        "uploaded = files.upload()\n",
        "\n",
        "in_data = loadmat('face_emotion_data.mat')\n",
        "# print([key for key in in_data]) # -- use this line to see the keys in the dictionary data structure\n",
        "\n",
        "x_train = in_data['X']\n",
        "y_train = in_data['y']\n",
        "\n",
        "w = np.linalg.inv(x_train.transpose()@x_train)@x_train.transpose()@y_train\n",
        "print(\"a)\")\n",
        "print(w)\n",
        "\n",
        "y_hat = np.sign(x_train@w)\n",
        "# x_train_barry = np.hstack([x_train[:,0],x_train[:,1],x_train[:,2]]).reshape(-1, 3)\n",
        "x_train_barry = x_train[:,[0,2,3]]\n",
        "w_barry = np.linalg.inv(x_train_barry.transpose()@x_train_barry)@x_train_barry.transpose()@y_train\n",
        "y_hat_barry = np.sign(x_train_barry@w_barry)\n",
        "\n",
        "error_vec = [0 if i[0]==i[1] else 1 for i in np.hstack((y_hat, y_train))]\n",
        "error_vec_barry = [0 if i[0]==i[1] else 1 for i in np.hstack((y_hat_barry, y_train))]\n",
        "\n",
        "print(\"e)\")\n",
        "print('Errors_using_all_nine_features: '+ str(sum(error_vec)/128))\n",
        "print('Errors_using_three_features: '+ str(sum(error_vec_barry)/128))\n",
        "\n",
        "\n",
        "num_subsets = 8\n",
        "subset_size = 16\n",
        "error_rates = []\n",
        "\n",
        "# 進行八次交叉驗證\n",
        "for i in range(num_subsets):\n",
        "    # 定義訓練和測試集的索引\n",
        "    test_indices = range(i * subset_size, (i + 1) * subset_size)\n",
        "    train_indices = list(set(range(128)) - set(test_indices))\n",
        "    # print(range)\n",
        "    # print(test_indices)\n",
        "    # print(train_indices)\n",
        "\n",
        "    # 創建訓練和測試數據\n",
        "    x_train_subset = x_train_barry[train_indices]\n",
        "    # print(x_train_subset.shape)\n",
        "    y_train_subset = y_train[train_indices]\n",
        "    x_test_subset = x_train_barry[test_indices]\n",
        "    y_test_subset = y_train[test_indices]\n",
        "\n",
        "    # 訓練分類器\n",
        "    w = np.linalg.inv(x_train_subset.T @ x_train_subset) @ x_train_subset.T @ y_train_subset\n",
        "\n",
        "    # 進行預測\n",
        "    y_hat = np.sign(x_test_subset @ w)\n",
        "\n",
        "    # 計算錯誤數\n",
        "    misclassifications = np.sum(y_hat.flatten() != y_test_subset.flatten())\n",
        "    error_rate = misclassifications / subset_size\n",
        "\n",
        "    error_rates.append(error_rate)\n",
        "\n",
        "# 計算平均錯誤率\n",
        "average_error_rate = np.mean(error_rates)\n",
        "\n",
        "print(\"f)\")\n",
        "print('Error rates for each subset: ', error_rates)\n",
        "print('Average error rate: ', average_error_rate)"
      ]
    },
    {
      "cell_type": "code",
      "execution_count": null,
      "metadata": {
        "id": "W1MZg5Ay43jB"
      },
      "outputs": [],
      "source": [
        "plt.scatter(x_eval[:,0],x_eval[:,1], color=['c' if i==-1 else 'r' for i in y_eval[:,0]])\n",
        "plt.title('eval data true class')\n",
        "plt.show()"
      ]
    },
    {
      "cell_type": "code",
      "execution_count": null,
      "metadata": {
        "id": "MwDXE3Ck43jB"
      },
      "outputs": [],
      "source": [
        "## Classifier 1\n",
        "\n",
        "# w = (X^T X)^(-1)X^T y\n",
        "w_opt = np.linalg.inv(x_train.transpose()@x_train)@x_train.transpose()@y_train\n",
        "y_hat = np.sign(x_eval@w_opt)\n",
        "\n",
        "plt.scatter(x_eval[:,0],x_eval[:,1], color=['c' if i==-1 else 'r' for i in y_hat[:,0]])\n",
        "plt.title('eval data predicted class (y_hat)')\n",
        "plt.show()\n"
      ]
    },
    {
      "cell_type": "code",
      "execution_count": null,
      "metadata": {
        "id": "hu_LnOiw43jB"
      },
      "outputs": [],
      "source": [
        "error_vec = [0 if i[0]==i[1] else 1 for i in np.hstack((y_hat, y_eval))]\n",
        "plt.scatter(x_eval[:,0],x_eval[:,1], color=['c' if i==0 else 'r' for i in error_vec])\n",
        "plt.title('errors')\n",
        "plt.show()\n",
        "\n",
        "print('Errors: '+ str(sum(error_vec)))"
      ]
    },
    {
      "cell_type": "markdown",
      "metadata": {
        "id": "HHRaTNw043jB"
      },
      "source": [
        "# 2b)"
      ]
    },
    {
      "cell_type": "code",
      "execution_count": null,
      "metadata": {
        "id": "zhUxrZXv43jB"
      },
      "outputs": [],
      "source": [
        "## Classifier 2\n",
        "x_train_2 = np.hstack((x_train**2, x_train, np.ones((n_train,1)) ))\n",
        "x_eval_2 = np.hstack((x_eval**2, x_eval, np.ones((n_eval,1)) ))\n",
        "\n",
        "w_opt_2 = np.linalg.inv(x_train_2.transpose()@x_train_2)@x_train_2.transpose()@y_train\n",
        "y_hat_2 = np.sign(x_eval_2@w_opt_2)\n",
        "\n",
        "plt.scatter(x_eval[:,0],x_eval[:,1], color=['c' if i==-1 else 'r' for i in y_hat_2[:,0]])\n",
        "plt.title('predicted class on eval data')\n",
        "plt.show()"
      ]
    },
    {
      "cell_type": "code",
      "execution_count": null,
      "metadata": {
        "id": "DrBAdrfB43jB"
      },
      "outputs": [],
      "source": [
        "error_vec_2 = [0 if i[0]==i[1] else 1 for i in np.hstack((y_hat_2, y_eval))]\n",
        "plt.scatter(x_eval[:,0],x_eval[:,1], color=['c' if i==0 else 'r' for i in error_vec_2])\n",
        "plt.title('errors')\n",
        "plt.show()\n",
        "\n",
        "print('Error: '+ str(sum(error_vec_2)))"
      ]
    },
    {
      "cell_type": "markdown",
      "metadata": {
        "id": "0Jm1hMEJ43jC"
      },
      "source": [
        "# 2c)"
      ]
    },
    {
      "cell_type": "code",
      "execution_count": null,
      "metadata": {
        "id": "DER2N_Oz43jC"
      },
      "outputs": [],
      "source": [
        "## create new, correctly labeled points\n",
        "n_new = 1000 #number of new datapoints\n",
        "x_train_new = np.hstack((np.zeros((n_new,1)), 3*np.ones((n_new,1))))\n",
        "y_train_new = np.ones((n_new,1))\n",
        "\n",
        "## add these to the training data\n",
        "x_train_outlier = np.vstack((x_train,x_train_new))\n",
        "y_train_outlier = np.vstack((y_train,y_train_new))\n",
        "plt.scatter(x_train_outlier[:,0],x_train_outlier[:,1], color=['c' if i==-1 else 'r' for i in y_train_outlier[:,0]])\n",
        "plt.title('new training data')\n",
        "plt.show()"
      ]
    },
    {
      "cell_type": "code",
      "execution_count": null,
      "metadata": {
        "id": "k03cnvA_43jC"
      },
      "outputs": [],
      "source": [
        "#train with new data\n",
        "w_opt_outlier = np.linalg.inv(x_train_outlier.transpose()@x_train_outlier)@x_train_outlier.transpose()@y_train_outlier\n",
        "y_hat_outlier = np.sign(x_eval@w_opt_outlier)\n",
        "\n",
        "plt.scatter(x_eval[:,0],x_eval[:,1], color=['c' if i==-1 else 'r' for i in y_hat_outlier[:,0]])\n",
        "plt.title('predicted class on eval data')\n",
        "plt.show()"
      ]
    },
    {
      "cell_type": "code",
      "execution_count": null,
      "metadata": {
        "id": "oduyCSkg43jC"
      },
      "outputs": [],
      "source": [
        "error_vec = [0 if i[0]==i[1] else 1 for i in np.hstack((y_hat_outlier, y_eval))]\n",
        "plt.scatter(x_eval[:,0],x_eval[:,1], color=['c' if i==0 else 'r' for i in error_vec])\n",
        "plt.title('errors')\n",
        "plt.show()\n",
        "\n",
        "print('Errors: '+ str(sum(error_vec)))"
      ]
    },
    {
      "cell_type": "code",
      "execution_count": null,
      "metadata": {
        "id": "jCxBrZk143jC"
      },
      "outputs": [],
      "source": []
    }
  ],
  "metadata": {
    "kernelspec": {
      "display_name": "Python 3",
      "language": "python",
      "name": "python3"
    },
    "language_info": {
      "codemirror_mode": {
        "name": "ipython",
        "version": 3
      },
      "file_extension": ".py",
      "mimetype": "text/x-python",
      "name": "python",
      "nbconvert_exporter": "python",
      "pygments_lexer": "ipython3",
      "version": "3.7.3"
    },
    "colab": {
      "provenance": []
    }
  },
  "nbformat": 4,
  "nbformat_minor": 0
}